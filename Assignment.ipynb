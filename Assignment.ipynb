{
  "nbformat": 4,
  "nbformat_minor": 0,
  "metadata": {
    "colab": {
      "provenance": []
    },
    "kernelspec": {
      "name": "python3",
      "display_name": "Python 3"
    },
    "language_info": {
      "name": "python"
    }
  },
  "cells": [
    {
      "cell_type": "markdown",
      "source": [
        "### EN3160 Assignment 1 on Intensity Transformations and Neighborhood Filtering\n",
        "\n",
        "## Name : Y.L.A. Epa\n",
        "\n",
        "## Index Number : 210156U\n",
        "\n"
      ],
      "metadata": {
        "id": "w4BjdgzgP5Ib"
      }
    },
    {
      "cell_type": "markdown",
      "source": [
        "Question 1"
      ],
      "metadata": {
        "id": "fF-va_brP-PC"
      }
    },
    {
      "cell_type": "code",
      "source": [
        "import cv2 as cv\n",
        "import numpy as np\n",
        "import matplotlib.pyplot as plt\n",
        "\n",
        "\n",
        "img = cv.imread('image_path', cv.IMREAD_GRAYSCALE)\n",
        "\n",
        "# Define intensity transformation (example linear transformation)\n",
        "def intensity_transform(pixel_value):\n",
        "    return np.clip((pixel_value / 255) * 200 + 50, 0, 255)  # Adjust based on transformation in the figure\n",
        "\n",
        "transformed_img = intensity_transform(img)\n",
        "\n",
        "# Display the result\n",
        "plt.imshow(transformed_img, cmap='gray')\n",
        "plt.show()\n"
      ],
      "metadata": {
        "id": "O0xjsoeEW15M"
      },
      "execution_count": null,
      "outputs": []
    },
    {
      "cell_type": "code",
      "source": [
        "from google.colab import drive\n",
        "drive.mount('/content/drive')"
      ],
      "metadata": {
        "id": "VatM7CcnRY7i"
      },
      "execution_count": null,
      "outputs": []
    }
  ]
}