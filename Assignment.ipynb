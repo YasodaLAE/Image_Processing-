{
  "nbformat": 4,
  "nbformat_minor": 0,
  "metadata": {
    "colab": {
      "provenance": [],
      "authorship_tag": "ABX9TyNAQbErkvnkRGwChel63DFo",
      "include_colab_link": true
    },
    "kernelspec": {
      "name": "python3",
      "display_name": "Python 3"
    },
    "language_info": {
      "name": "python"
    }
  },
  "cells": [
    {
      "cell_type": "markdown",
      "metadata": {
        "id": "view-in-github",
        "colab_type": "text"
      },
      "source": [
        "<a href=\"https://colab.research.google.com/github/YasodaLAE/Image_Processing-/blob/main/Assignment.ipynb\" target=\"_parent\"><img src=\"https://colab.research.google.com/assets/colab-badge.svg\" alt=\"Open In Colab\"/></a>"
      ]
    },
    {
      "cell_type": "code",
      "execution_count": 1,
      "metadata": {
        "id": "xF_wUnLuK8S6"
      },
      "outputs": [],
      "source": [
        "#intensity transform"
      ]
    },
    {
      "cell_type": "code",
      "source": [],
      "metadata": {
        "id": "O0xjsoeEW15M"
      },
      "execution_count": null,
      "outputs": []
    }
  ]
}